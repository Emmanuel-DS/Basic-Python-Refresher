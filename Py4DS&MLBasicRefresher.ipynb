{
  "nbformat": 4,
  "nbformat_minor": 0,
  "metadata": {
    "kernelspec": {
      "display_name": "Python 3",
      "language": "python",
      "name": "python3"
    },
    "language_info": {
      "codemirror_mode": {
        "name": "ipython",
        "version": 3
      },
      "file_extension": ".py",
      "mimetype": "text/x-python",
      "name": "python",
      "nbconvert_exporter": "python",
      "pygments_lexer": "ipython3",
      "version": "3.8.5"
    },
    "colab": {
      "name": "Py4DS&MLBasicRefresher.ipynb",
      "provenance": [],
      "collapsed_sections": [
        "V3tKztPVAjDR",
        "y8yZqZKYAjDe",
        "FN4WdkyuAjDl",
        "qeG9PEsAAjDt",
        "nQ7a7LILAjDv",
        "JeoOTTkpAjD3",
        "n9AXOxvVAjD9",
        "XIqF0hWCAjEB",
        "JbvqoNnJAjED",
        "RfDv-vPvAjEa"
      ],
      "include_colab_link": true
    }
  },
  "cells": [
    {
      "cell_type": "markdown",
      "metadata": {
        "id": "view-in-github",
        "colab_type": "text"
      },
      "source": [
        "<a href=\"https://colab.research.google.com/github/Emmanuel-DS/Basic-Python-Refresher/blob/main/Py4DS%26MLBasicRefresher.ipynb\" target=\"_parent\"><img src=\"https://colab.research.google.com/assets/colab-badge.svg\" alt=\"Open In Colab\"/></a>"
      ]
    },
    {
      "cell_type": "markdown",
      "metadata": {
        "id": "OvLdZFsoAjCB"
      },
      "source": [
        "### Python Basics Refresher for DS and ML"
      ]
    },
    {
      "cell_type": "code",
      "metadata": {
        "id": "4YNQ-FBDAjCO",
        "outputId": "c1efe107-f36d-45f9-b9ac-9f9886e90c7f"
      },
      "source": [
        "#PEMDAS\n",
        "(2 + 3) * (5 + 5)"
      ],
      "execution_count": null,
      "outputs": [
        {
          "output_type": "execute_result",
          "data": {
            "text/plain": [
              "50"
            ]
          },
          "metadata": {
            "tags": []
          },
          "execution_count": 1
        }
      ]
    },
    {
      "cell_type": "code",
      "metadata": {
        "id": "gR9TMUK6AjCV",
        "outputId": "9e0bc262-dd55-4b4a-f7ef-da311afac3da"
      },
      "source": [
        "#Strings\n",
        "\"I don't like that\""
      ],
      "execution_count": null,
      "outputs": [
        {
          "output_type": "execute_result",
          "data": {
            "text/plain": [
              "\"I don't like that\""
            ]
          },
          "metadata": {
            "tags": []
          },
          "execution_count": 2
        }
      ]
    },
    {
      "cell_type": "code",
      "metadata": {
        "id": "Y-ODoh1UAjCX",
        "outputId": "3e54dd03-9e70-4408-c061-6d8af2714ae0"
      },
      "source": [
        "print(\"I don't like that\") # Here no quotes when we used the print()"
      ],
      "execution_count": null,
      "outputs": [
        {
          "output_type": "stream",
          "text": [
            "I don't like that\n"
          ],
          "name": "stdout"
        }
      ]
    },
    {
      "cell_type": "code",
      "metadata": {
        "id": "YyeJ7x2FAjCb",
        "outputId": "ada84a9a-13a3-4937-8832-459fa6baaf28"
      },
      "source": [
        "print(\"My name is {}\".format('Emmy'))"
      ],
      "execution_count": null,
      "outputs": [
        {
          "output_type": "stream",
          "text": [
            "My name is Emmy\n"
          ],
          "name": "stdout"
        }
      ]
    },
    {
      "cell_type": "code",
      "metadata": {
        "id": "nyZN9rdHAjCd",
        "outputId": "4c38ebc0-9d0f-41d8-8aec-f33e480aee5a"
      },
      "source": [
        "print(\"My name is {}, my number is {}\".format('Emmy', '23400'))"
      ],
      "execution_count": null,
      "outputs": [
        {
          "output_type": "stream",
          "text": [
            "My name is Emmy, my number is 23400\n"
          ],
          "name": "stdout"
        }
      ]
    },
    {
      "cell_type": "code",
      "metadata": {
        "id": "YEXVtPYsAjCe",
        "outputId": "9adeb571-e157-4384-9ce8-d03b478e26b6"
      },
      "source": [
        "print(\"First: {x} second: {y}\".format(x = 'Emmy', y = 'Ken')) #This helps to change argument easy as seen in the next example"
      ],
      "execution_count": null,
      "outputs": [
        {
          "output_type": "stream",
          "text": [
            "First: Emmy second: Ken\n"
          ],
          "name": "stdout"
        }
      ]
    },
    {
      "cell_type": "code",
      "metadata": {
        "id": "-f0j0pfgAjCs",
        "outputId": "5cff4b96-e6cf-420d-ad7e-ee09430bf022"
      },
      "source": [
        "print(\"First: {y} second: {x}\".format(x = 'Emmy', y = 'Ken'))"
      ],
      "execution_count": null,
      "outputs": [
        {
          "output_type": "stream",
          "text": [
            "First: Ken second: Emmy\n"
          ],
          "name": "stdout"
        }
      ]
    },
    {
      "cell_type": "code",
      "metadata": {
        "id": "xKYvLlM6AjCu",
        "outputId": "056c9d51-ddd8-437f-8ec0-f4ca1928c66b"
      },
      "source": [
        "\"\"\"Use .format() to print the following string: 'The diameter of Earth is 12742 kilometers'\n",
        "planet = \"Earth\"\n",
        "diametet = 12742\n",
        "\"\"\"\n",
        "planet = \"Earth\"\n",
        "diameter = 12742\n",
        "\n",
        "print(\"The diameter of {} is {} km\" .format(planet, diameter))"
      ],
      "execution_count": null,
      "outputs": [
        {
          "output_type": "stream",
          "text": [
            "The diameter of Earth is 12742 km\n"
          ],
          "name": "stdout"
        }
      ]
    },
    {
      "cell_type": "markdown",
      "metadata": {
        "id": "J1NzckGRAjCw"
      },
      "source": [
        "## List"
      ]
    },
    {
      "cell_type": "code",
      "metadata": {
        "id": "2ZlIJ-uAAjCx",
        "outputId": "7217925c-edce-40d9-e39c-56284e3f6261"
      },
      "source": [
        "[1, 2, 3]"
      ],
      "execution_count": null,
      "outputs": [
        {
          "output_type": "execute_result",
          "data": {
            "text/plain": [
              "[1, 2, 3]"
            ]
          },
          "metadata": {
            "tags": []
          },
          "execution_count": 8
        }
      ]
    },
    {
      "cell_type": "code",
      "metadata": {
        "id": "D9y6E0wWAjCz",
        "outputId": "25728753-e03f-4085-a5a2-36b8c58ec907"
      },
      "source": [
        "['a', 'b', 'c']"
      ],
      "execution_count": null,
      "outputs": [
        {
          "output_type": "execute_result",
          "data": {
            "text/plain": [
              "['a', 'b', 'c']"
            ]
          },
          "metadata": {
            "tags": []
          },
          "execution_count": 9
        }
      ]
    },
    {
      "cell_type": "code",
      "metadata": {
        "id": "bzvo2NuAAjC4",
        "outputId": "b92b7597-baec-4fac-912c-f9c52f65b183"
      },
      "source": [
        "[1, 'abc']"
      ],
      "execution_count": null,
      "outputs": [
        {
          "output_type": "execute_result",
          "data": {
            "text/plain": [
              "[1, 'abc']"
            ]
          },
          "metadata": {
            "tags": []
          },
          "execution_count": 10
        }
      ]
    },
    {
      "cell_type": "code",
      "metadata": {
        "id": "D1uA-4M-AjC9",
        "outputId": "7d034bcd-892a-4be4-f825-364b6746c7ff"
      },
      "source": [
        "my_list = ['a', 'b', 'c']\n",
        "my_list[0]"
      ],
      "execution_count": null,
      "outputs": [
        {
          "output_type": "execute_result",
          "data": {
            "text/plain": [
              "'a'"
            ]
          },
          "metadata": {
            "tags": []
          },
          "execution_count": 11
        }
      ]
    },
    {
      "cell_type": "code",
      "metadata": {
        "id": "TF1QXJOJAjC_",
        "outputId": "5a71a988-08ba-4e08-a22b-a5b9bb40b15e"
      },
      "source": [
        "#To change item in a list or re-assign an object in a list\n",
        "my_list[2] = \"I just changed the third item\"\n",
        "my_list"
      ],
      "execution_count": null,
      "outputs": [
        {
          "output_type": "execute_result",
          "data": {
            "text/plain": [
              "['a', 'b', 'I just changed the third item']"
            ]
          },
          "metadata": {
            "tags": []
          },
          "execution_count": 12
        }
      ]
    },
    {
      "cell_type": "code",
      "metadata": {
        "id": "Yn7EMKptAjDD",
        "outputId": "c6264af2-2904-413c-f9e9-0420bd431d71"
      },
      "source": [
        "my_list.append('d') #Note the change of brackets from [] to ()\n",
        "my_list"
      ],
      "execution_count": null,
      "outputs": [
        {
          "output_type": "execute_result",
          "data": {
            "text/plain": [
              "['a', 'b', 'I just changed the third item', 'd']"
            ]
          },
          "metadata": {
            "tags": []
          },
          "execution_count": 15
        }
      ]
    },
    {
      "cell_type": "code",
      "metadata": {
        "id": "UzQVSncIAjDE",
        "outputId": "693600e1-d06a-4050-8804-f7e8fdc36731"
      },
      "source": [
        "my_list = [1, 2, 3, [100, 200]] #List nesting\n",
        "my_list"
      ],
      "execution_count": null,
      "outputs": [
        {
          "output_type": "execute_result",
          "data": {
            "text/plain": [
              "[1, 2, 3, [100, 200]]"
            ]
          },
          "metadata": {
            "tags": []
          },
          "execution_count": 16
        }
      ]
    },
    {
      "cell_type": "code",
      "metadata": {
        "id": "zaLFR7UkAjDF",
        "outputId": "a46c6441-3e8f-4283-e230-0819052ea35d"
      },
      "source": [
        "my_list[3] #accessin the nested index"
      ],
      "execution_count": null,
      "outputs": [
        {
          "output_type": "execute_result",
          "data": {
            "text/plain": [
              "[100, 200]"
            ]
          },
          "metadata": {
            "tags": []
          },
          "execution_count": 17
        }
      ]
    },
    {
      "cell_type": "code",
      "metadata": {
        "id": "KWH-wPuoAjDG",
        "outputId": "e6adc232-9a74-4938-830c-4fca833e816b"
      },
      "source": [
        "my_list[3][1] #access the element in the nested list"
      ],
      "execution_count": null,
      "outputs": [
        {
          "output_type": "execute_result",
          "data": {
            "text/plain": [
              "200"
            ]
          },
          "metadata": {
            "tags": []
          },
          "execution_count": 74
        }
      ]
    },
    {
      "cell_type": "code",
      "metadata": {
        "id": "n7mY238IAjDH",
        "outputId": "5ffdbfbb-ad9a-4f66-9f75-7afe9cabc146"
      },
      "source": [
        "#To remove something from the list\n",
        "myList = [1, 2, 3, 4, 5]\n",
        "last = myList.pop()\n",
        "myList"
      ],
      "execution_count": null,
      "outputs": [
        {
          "output_type": "execute_result",
          "data": {
            "text/plain": [
              "[1, 2, 3, 4]"
            ]
          },
          "metadata": {
            "tags": []
          },
          "execution_count": 77
        }
      ]
    },
    {
      "cell_type": "code",
      "metadata": {
        "id": "UlXctv39AjDI",
        "outputId": "a79f0cf0-3ca9-4ad1-eb76-dca5b1b54efa"
      },
      "source": [
        "last"
      ],
      "execution_count": null,
      "outputs": [
        {
          "output_type": "execute_result",
          "data": {
            "text/plain": [
              "5"
            ]
          },
          "metadata": {
            "tags": []
          },
          "execution_count": 79
        }
      ]
    },
    {
      "cell_type": "code",
      "metadata": {
        "id": "0lQcrMR2AjDL",
        "outputId": "d3f89202-3309-41e7-e1f1-b82d87b0de3d"
      },
      "source": [
        "myList = [1, 2, 3, 4, 5] #to pop off any element in the list\n",
        "myList.pop(2)"
      ],
      "execution_count": null,
      "outputs": [
        {
          "output_type": "execute_result",
          "data": {
            "text/plain": [
              "3"
            ]
          },
          "metadata": {
            "tags": []
          },
          "execution_count": 81
        }
      ]
    },
    {
      "cell_type": "code",
      "metadata": {
        "id": "9tjwVIxvAjDM",
        "outputId": "778c755f-f3a4-40be-eabf-f6c528437cdf"
      },
      "source": [
        "myList"
      ],
      "execution_count": null,
      "outputs": [
        {
          "output_type": "execute_result",
          "data": {
            "text/plain": [
              "[1, 2, 4, 5]"
            ]
          },
          "metadata": {
            "tags": []
          },
          "execution_count": 83
        }
      ]
    },
    {
      "cell_type": "code",
      "metadata": {
        "id": "yovCp5PAAjDN",
        "outputId": "56f23cf6-8138-4b33-9a27-ec55c9568f90"
      },
      "source": [
        "#To check if something is in the list or not\n",
        "'x' in [1, 2, 3, 4, 5]"
      ],
      "execution_count": null,
      "outputs": [
        {
          "output_type": "execute_result",
          "data": {
            "text/plain": [
              "False"
            ]
          },
          "metadata": {
            "tags": []
          },
          "execution_count": 85
        }
      ]
    },
    {
      "cell_type": "code",
      "metadata": {
        "id": "LxH8517CAjDO",
        "outputId": "7259126f-dbcb-42f3-e5f6-a3100479ce3a"
      },
      "source": [
        "1 in [1, 2, 3, 4]"
      ],
      "execution_count": null,
      "outputs": [
        {
          "output_type": "execute_result",
          "data": {
            "text/plain": [
              "True"
            ]
          },
          "metadata": {
            "tags": []
          },
          "execution_count": 87
        }
      ]
    },
    {
      "cell_type": "code",
      "metadata": {
        "id": "9BN7rlsQAjDP",
        "outputId": "9e15a40f-df78-4d8a-8d15-22eeaeb0da7f"
      },
      "source": [
        "2 in myList"
      ],
      "execution_count": null,
      "outputs": [
        {
          "output_type": "execute_result",
          "data": {
            "text/plain": [
              "True"
            ]
          },
          "metadata": {
            "tags": []
          },
          "execution_count": 92
        }
      ]
    },
    {
      "cell_type": "code",
      "metadata": {
        "id": "GZd_ZXV2AjDQ",
        "outputId": "33734dba-d109-4b7c-da88-7f2737e6f0b8"
      },
      "source": [
        "# Given the nested list, use indexing to grab the word \"Hello\"\n",
        "\n",
        "my_list = [1, 2, [3, 4], [5, [100, 200, ['Hello']], 23, 11], 1, 7]\n",
        "my_list[3][1][2]"
      ],
      "execution_count": null,
      "outputs": [
        {
          "output_type": "execute_result",
          "data": {
            "text/plain": [
              "['Hello']"
            ]
          },
          "metadata": {
            "tags": []
          },
          "execution_count": 95
        }
      ]
    },
    {
      "cell_type": "markdown",
      "metadata": {
        "id": "V3tKztPVAjDR"
      },
      "source": [
        "## Dictionaries"
      ]
    },
    {
      "cell_type": "code",
      "metadata": {
        "id": "Ml6z5_6HAjDS"
      },
      "source": [
        "# These uses curly notations/brackets{}. It has key-value pair. They do not have orders. Values can be accessed by it keys\n",
        "\n",
        "d = {'key1':'value1', 'key2':'value2'}"
      ],
      "execution_count": null,
      "outputs": []
    },
    {
      "cell_type": "code",
      "metadata": {
        "id": "IfdjJLFIAjDT",
        "outputId": "598a2928-ea16-454c-9788-96639b970124"
      },
      "source": [
        "d['key1']"
      ],
      "execution_count": null,
      "outputs": [
        {
          "output_type": "execute_result",
          "data": {
            "text/plain": [
              "'value1'"
            ]
          },
          "metadata": {
            "tags": []
          },
          "execution_count": 20
        }
      ]
    },
    {
      "cell_type": "code",
      "metadata": {
        "id": "Mbib_ulKAjDU",
        "outputId": "7a4f5b26-83d9-42eb-bebe-df7042af523e"
      },
      "source": [
        "print(d)"
      ],
      "execution_count": null,
      "outputs": [
        {
          "output_type": "stream",
          "text": [
            "{'key1': 'value1', 'key2': 'value2'}\n"
          ],
          "name": "stdout"
        }
      ]
    },
    {
      "cell_type": "code",
      "metadata": {
        "id": "oWebsO7UAjDV",
        "outputId": "f58491ea-c3c7-4530-9376-261c03476268"
      },
      "source": [
        "d = {'k1':'v1', 'k2':'v2'}\n",
        "d.keys()"
      ],
      "execution_count": null,
      "outputs": [
        {
          "output_type": "execute_result",
          "data": {
            "text/plain": [
              "dict_keys(['k1', 'k2'])"
            ]
          },
          "metadata": {
            "tags": []
          },
          "execution_count": 72
        }
      ]
    },
    {
      "cell_type": "code",
      "metadata": {
        "id": "yVm16G-uAjDW",
        "outputId": "4f8229e8-9ee1-4edd-bf6c-2a57035ac3b7"
      },
      "source": [
        "d.items()"
      ],
      "execution_count": null,
      "outputs": [
        {
          "output_type": "execute_result",
          "data": {
            "text/plain": [
              "dict_items([('k1', 'v1'), ('k2', 'v2')])"
            ]
          },
          "metadata": {
            "tags": []
          },
          "execution_count": 73
        }
      ]
    },
    {
      "cell_type": "code",
      "metadata": {
        "id": "Wa6ENbiCAjDY",
        "outputId": "965a05b0-c009-46df-8c94-9c2c7e8509b0"
      },
      "source": [
        "dict = {'k1': \"cat\", 'k2': \"dog\", 'k3': \"mouse\", 'k4': \"fish\"}\n",
        "dict"
      ],
      "execution_count": null,
      "outputs": [
        {
          "output_type": "execute_result",
          "data": {
            "text/plain": [
              "{'k1': 'cat', 'k2': 'dog', 'k3': 'mouse', 'k4': 'fish'}"
            ]
          },
          "metadata": {
            "tags": []
          },
          "execution_count": 9
        }
      ]
    },
    {
      "cell_type": "code",
      "metadata": {
        "id": "HclPI25dAjDZ",
        "outputId": "45a5930c-fb09-4109-8dfb-4d8e539b3405"
      },
      "source": [
        "dict['k2']"
      ],
      "execution_count": null,
      "outputs": [
        {
          "output_type": "execute_result",
          "data": {
            "text/plain": [
              "'dog'"
            ]
          },
          "metadata": {
            "tags": []
          },
          "execution_count": 10
        }
      ]
    },
    {
      "cell_type": "code",
      "metadata": {
        "id": "fPfVigHKAjDa",
        "outputId": "902ad00d-18d1-4607-c42c-1c05b8429743"
      },
      "source": [
        "#Adding k5 with parrot\n",
        "\n",
        "dict['k5'] = \"Parrot\"\n",
        "dict"
      ],
      "execution_count": null,
      "outputs": [
        {
          "output_type": "execute_result",
          "data": {
            "text/plain": [
              "{'k1': 'cat', 'k2': 'dog', 'k3': 'mouse', 'k4': 'fish', 'k5': 'Parrot'}"
            ]
          },
          "metadata": {
            "tags": []
          },
          "execution_count": 11
        }
      ]
    },
    {
      "cell_type": "code",
      "metadata": {
        "id": "FwChU6TOAjDd",
        "outputId": "886a401b-2e20-4da1-c1c1-bac21f9f3cca"
      },
      "source": [
        "#Replacing k3 with goat\n",
        "dict['k3'] = \"Goat\"\n",
        "dict"
      ],
      "execution_count": null,
      "outputs": [
        {
          "output_type": "execute_result",
          "data": {
            "text/plain": [
              "{'k1': 'cat', 'k2': 'dog', 'k3': 'Goat', 'k4': 'fish', 'k5': 'Parrot'}"
            ]
          },
          "metadata": {
            "tags": []
          },
          "execution_count": 12
        }
      ]
    },
    {
      "cell_type": "markdown",
      "metadata": {
        "id": "y8yZqZKYAjDe"
      },
      "source": [
        "## Tuples"
      ]
    },
    {
      "cell_type": "code",
      "metadata": {
        "id": "ciHA3Qg_AjDf",
        "outputId": "e3f02af5-bb78-495e-827d-27d3581302a8"
      },
      "source": [
        "# They are like a list but surrounded by parenthesis() instead of square[]. They are immutable. They cannot be changed\n",
        "t = (1, 2, 3)\n",
        "t[0]"
      ],
      "execution_count": null,
      "outputs": [
        {
          "output_type": "execute_result",
          "data": {
            "text/plain": [
              "1"
            ]
          },
          "metadata": {
            "tags": []
          },
          "execution_count": 22
        }
      ]
    },
    {
      "cell_type": "code",
      "metadata": {
        "id": "tWoLuA84AjDg",
        "outputId": "55fadbcd-1bcb-498e-8341-a7c9147ff777"
      },
      "source": [
        "y = 50, 53, 56   #Tuple are the defauly in python\n",
        "y"
      ],
      "execution_count": null,
      "outputs": [
        {
          "output_type": "execute_result",
          "data": {
            "text/plain": [
              "(50, 53, 56)"
            ]
          },
          "metadata": {
            "tags": []
          },
          "execution_count": 4
        }
      ]
    },
    {
      "cell_type": "code",
      "metadata": {
        "id": "ZuXGStyRAjDh",
        "outputId": "574f8b47-37d0-4b3f-bf0e-8ee1a6f8601c"
      },
      "source": [
        "x = (23, 34, 45)\n",
        "x"
      ],
      "execution_count": null,
      "outputs": [
        {
          "output_type": "execute_result",
          "data": {
            "text/plain": [
              "(23, 34, 45)"
            ]
          },
          "metadata": {
            "tags": []
          },
          "execution_count": 5
        }
      ]
    },
    {
      "cell_type": "code",
      "metadata": {
        "id": "GEQvt82tAjDi",
        "outputId": "ee8ad80a-b248-4b01-cbe1-3568b9ca9f3e"
      },
      "source": [
        "#Placing Tuple within list\n",
        "\n",
        "list = [x, y]\n",
        "list"
      ],
      "execution_count": null,
      "outputs": [
        {
          "output_type": "execute_result",
          "data": {
            "text/plain": [
              "[(23, 34, 45), (50, 53, 56)]"
            ]
          },
          "metadata": {
            "tags": []
          },
          "execution_count": 7
        }
      ]
    },
    {
      "cell_type": "code",
      "metadata": {
        "id": "ztHAlveXAjDj",
        "outputId": "80bb0822-6586-42e4-cb0f-f462c30b877b"
      },
      "source": [
        "def square_info(x):\n",
        "    A = x ** 2\n",
        "    P = 4 * x\n",
        "    print ('Area and Perimeter')\n",
        "    return A, P\n",
        "square_info(2)"
      ],
      "execution_count": null,
      "outputs": [
        {
          "output_type": "stream",
          "text": [
            "Area and Perimeter\n"
          ],
          "name": "stdout"
        },
        {
          "output_type": "execute_result",
          "data": {
            "text/plain": [
              "(4, 8)"
            ]
          },
          "metadata": {
            "tags": []
          },
          "execution_count": 8
        }
      ]
    },
    {
      "cell_type": "code",
      "metadata": {
        "id": "1XwQK09lAjDk",
        "outputId": "e348a240-9e67-47b2-97ce-73fa7d7efc7f"
      },
      "source": [
        "t[1] = \"it is not possible to do. I will get a type error\""
      ],
      "execution_count": null,
      "outputs": [
        {
          "output_type": "error",
          "ename": "TypeError",
          "evalue": "'tuple' object does not support item assignment",
          "traceback": [
            "\u001b[1;31m---------------------------------------------------------------------------\u001b[0m",
            "\u001b[1;31mTypeError\u001b[0m                                 Traceback (most recent call last)",
            "\u001b[1;32m<ipython-input-23-2f61ea9de79c>\u001b[0m in \u001b[0;36m<module>\u001b[1;34m\u001b[0m\n\u001b[1;32m----> 1\u001b[1;33m \u001b[0mt\u001b[0m\u001b[1;33m[\u001b[0m\u001b[1;36m1\u001b[0m\u001b[1;33m]\u001b[0m \u001b[1;33m=\u001b[0m \u001b[1;34m\"it is not possible to do. I will get a type error\"\u001b[0m\u001b[1;33m\u001b[0m\u001b[1;33m\u001b[0m\u001b[0m\n\u001b[0m",
            "\u001b[1;31mTypeError\u001b[0m: 'tuple' object does not support item assignment"
          ]
        }
      ]
    },
    {
      "cell_type": "markdown",
      "metadata": {
        "id": "FN4WdkyuAjDl"
      },
      "source": [
        "## Set"
      ]
    },
    {
      "cell_type": "code",
      "metadata": {
        "id": "EMiisk9KAjDp",
        "outputId": "ecde54d9-168e-4186-dbb4-899703ef5a5f"
      },
      "source": [
        "#looks like dictionaries but do not have key-value pairs. Unordered collection of unique elements\n",
        "{1, 2, 3, 4}"
      ],
      "execution_count": null,
      "outputs": [
        {
          "output_type": "execute_result",
          "data": {
            "text/plain": [
              "{1, 2, 3, 4}"
            ]
          },
          "metadata": {
            "tags": []
          },
          "execution_count": 24
        }
      ]
    },
    {
      "cell_type": "code",
      "metadata": {
        "id": "hVO8bP7YAjDs",
        "outputId": "f1dcf304-caad-4bb2-fd03-f2ee18dcea02"
      },
      "source": [
        "{1,1,1,1,1,1,1,2,2,2,2,2,2,2,3,3,3,3,4,4,4} # It reduces it to the main elements"
      ],
      "execution_count": null,
      "outputs": [
        {
          "output_type": "execute_result",
          "data": {
            "text/plain": [
              "{1, 2, 3, 4}"
            ]
          },
          "metadata": {
            "tags": []
          },
          "execution_count": 26
        }
      ]
    },
    {
      "cell_type": "markdown",
      "metadata": {
        "id": "qeG9PEsAAjDt"
      },
      "source": [
        "### if else elif"
      ]
    },
    {
      "cell_type": "code",
      "metadata": {
        "id": "aVElnL_9AjDu",
        "outputId": "4ac23f51-4a45-46e8-ca1a-7dbb067693be"
      },
      "source": [
        "if 1 == 2:\n",
        "    print('right')\n",
        "elif 3 == 3:\n",
        "    print('second rule applies')\n",
        "else:\n",
        "    print('nope')"
      ],
      "execution_count": null,
      "outputs": [
        {
          "output_type": "stream",
          "text": [
            "second rule applies\n"
          ],
          "name": "stdout"
        }
      ]
    },
    {
      "cell_type": "markdown",
      "metadata": {
        "id": "nQ7a7LILAjDv"
      },
      "source": [
        "### For loop"
      ]
    },
    {
      "cell_type": "code",
      "metadata": {
        "id": "7JeVRAqJAjDv",
        "outputId": "f732616a-43b9-40f9-a01a-6a750938efc8"
      },
      "source": [
        "Items = [1, 2, 3, 4, 5]\n",
        "for item in Items:\n",
        "    print(item)"
      ],
      "execution_count": null,
      "outputs": [
        {
          "output_type": "stream",
          "text": [
            "1\n",
            "2\n",
            "3\n",
            "4\n",
            "5\n"
          ],
          "name": "stdout"
        }
      ]
    },
    {
      "cell_type": "code",
      "metadata": {
        "id": "eEQVIaNHAjDw",
        "outputId": "1a7e9af2-0d8d-47b9-897a-3bfa95c77d95"
      },
      "source": [
        "Items = [1, 2, 3, 4, 5]\n",
        "for item in Items:\n",
        "    print('checking it out')"
      ],
      "execution_count": null,
      "outputs": [
        {
          "output_type": "stream",
          "text": [
            "checking it out\n",
            "checking it out\n",
            "checking it out\n",
            "checking it out\n",
            "checking it out\n"
          ],
          "name": "stdout"
        }
      ]
    },
    {
      "cell_type": "code",
      "metadata": {
        "id": "MJiFWVB8AjDz",
        "outputId": "bacfbd6a-6edc-4e26-bd54-47a5ddd650fe"
      },
      "source": [
        "Items = [1, 2, 3, 4, 5]\n",
        "for item in Items:\n",
        "    print(item + item)"
      ],
      "execution_count": null,
      "outputs": [
        {
          "output_type": "stream",
          "text": [
            "2\n",
            "4\n",
            "6\n",
            "8\n",
            "10\n"
          ],
          "name": "stdout"
        }
      ]
    },
    {
      "cell_type": "code",
      "metadata": {
        "id": "rGJqCBQ6AjD0",
        "outputId": "d928425a-18d0-4ca9-f981-14ef87ba440d"
      },
      "source": [
        "even = [0, 2, 4, 6, 8, 10, 12, 14, 16, 18, 20]\n",
        "\n",
        "for n in even:\n",
        "    print(n)"
      ],
      "execution_count": null,
      "outputs": [
        {
          "output_type": "stream",
          "text": [
            "0\n",
            "2\n",
            "4\n",
            "6\n",
            "8\n",
            "10\n",
            "12\n",
            "14\n",
            "16\n",
            "18\n",
            "20\n"
          ],
          "name": "stdout"
        }
      ]
    },
    {
      "cell_type": "code",
      "metadata": {
        "id": "awVRqwEhAjD1",
        "outputId": "f40fbe4b-fe9b-4c35-ab68-c1a837b271f1"
      },
      "source": [
        "even = [0, 2, 4, 6, 8, 10, 12, 14, 16, 18, 20]   #Ordering in a single line\n",
        "\n",
        "for n in even:\n",
        "    print(n, end = \" \")"
      ],
      "execution_count": null,
      "outputs": [
        {
          "output_type": "stream",
          "text": [
            "0 2 4 6 8 10 12 14 16 18 20 "
          ],
          "name": "stdout"
        }
      ]
    },
    {
      "cell_type": "code",
      "metadata": {
        "id": "hjzPMWQnAjD2"
      },
      "source": [
        "x = [0, 1, 2, 3, 4]\n",
        "\n",
        "for item in x:\n",
        "    print(item, end = \" \")"
      ],
      "execution_count": null,
      "outputs": []
    },
    {
      "cell_type": "markdown",
      "metadata": {
        "id": "JeoOTTkpAjD3"
      },
      "source": [
        "## While loop"
      ]
    },
    {
      "cell_type": "code",
      "metadata": {
        "id": "Mva6ATIaAjD6",
        "outputId": "2d5a50fe-51a8-423e-900a-cb10ca53c379"
      },
      "source": [
        "i = 1\n",
        "while i < 5:\n",
        "    print('i is {}'.format(i))\n",
        "    i += 1"
      ],
      "execution_count": null,
      "outputs": [
        {
          "output_type": "stream",
          "text": [
            "i is 1\n",
            "i is 2\n",
            "i is 3\n",
            "i is 4\n"
          ],
          "name": "stdout"
        }
      ]
    },
    {
      "cell_type": "code",
      "metadata": {
        "id": "2d2bSiCwAjD7"
      },
      "source": [
        "x = 0\n",
        "\n",
        "while x <= 20:\n",
        "    print(x, end = \" \")\n",
        "    x += 2  #Incrementing the value by 2 on top of x"
      ],
      "execution_count": null,
      "outputs": []
    },
    {
      "cell_type": "markdown",
      "metadata": {
        "id": "n9AXOxvVAjD9"
      },
      "source": [
        "## Range"
      ]
    },
    {
      "cell_type": "code",
      "metadata": {
        "id": "SrZ9q6nYAjD-",
        "outputId": "79f628cc-49fc-4eb1-ba18-39b50e9b8cf5"
      },
      "source": [
        "list(range(5))"
      ],
      "execution_count": null,
      "outputs": [
        {
          "output_type": "execute_result",
          "data": {
            "text/plain": [
              "[0, 1, 2, 3, 4]"
            ]
          },
          "metadata": {
            "tags": []
          },
          "execution_count": 38
        }
      ]
    },
    {
      "cell_type": "code",
      "metadata": {
        "id": "zlhc0qKSAjD_",
        "outputId": "bf77f862-b6df-4f06-eaf3-3f4ef1c388c5"
      },
      "source": [
        "list(range(2,5))"
      ],
      "execution_count": null,
      "outputs": [
        {
          "output_type": "execute_result",
          "data": {
            "text/plain": [
              "[2, 3, 4]"
            ]
          },
          "metadata": {
            "tags": []
          },
          "execution_count": 39
        }
      ]
    },
    {
      "cell_type": "code",
      "metadata": {
        "id": "-HOAj91nAjEA",
        "outputId": "d3695343-c5d6-4e5f-c25b-df1618019307"
      },
      "source": [
        "for x in range(5):\n",
        "    print('Hi there')"
      ],
      "execution_count": null,
      "outputs": [
        {
          "output_type": "stream",
          "text": [
            "Hi there\n",
            "Hi there\n",
            "Hi there\n",
            "Hi there\n",
            "Hi there\n"
          ],
          "name": "stdout"
        }
      ]
    },
    {
      "cell_type": "markdown",
      "metadata": {
        "id": "XIqF0hWCAjEB"
      },
      "source": [
        "### List Comprehension"
      ]
    },
    {
      "cell_type": "code",
      "metadata": {
        "id": "SsE51qhyAjEC",
        "outputId": "d1eeba9e-008e-469d-9e31-37fca73528d6"
      },
      "source": [
        "x = [1, 2, 3, 4, 5]\n",
        "out = []\n",
        "for num in x:\n",
        "    out.append(num**2)\n",
        "print(out)"
      ],
      "execution_count": null,
      "outputs": [
        {
          "output_type": "stream",
          "text": [
            "[1, 4, 9, 16, 25]\n"
          ],
          "name": "stdout"
        }
      ]
    },
    {
      "cell_type": "code",
      "metadata": {
        "id": "9pQHxIAgAjEC",
        "outputId": "1877e7e0-8659-4478-dc64-3defab768b40"
      },
      "source": [
        "#Alternatively\n",
        "[num ** 2 for num in x]"
      ],
      "execution_count": null,
      "outputs": [
        {
          "output_type": "execute_result",
          "data": {
            "text/plain": [
              "[1, 4, 9, 16, 25]"
            ]
          },
          "metadata": {
            "tags": []
          },
          "execution_count": 42
        }
      ]
    },
    {
      "cell_type": "markdown",
      "metadata": {
        "id": "JbvqoNnJAjED"
      },
      "source": [
        "### Functions"
      ]
    },
    {
      "cell_type": "code",
      "metadata": {
        "id": "k9BK5mpFAjEE"
      },
      "source": [
        "def my_func():\n",
        "    print('hi')"
      ],
      "execution_count": null,
      "outputs": []
    },
    {
      "cell_type": "code",
      "metadata": {
        "id": "dQC2NQIvAjEF",
        "outputId": "1fbb0af3-c9bc-444b-f4b0-1d6e5101db13"
      },
      "source": [
        "my_func()"
      ],
      "execution_count": null,
      "outputs": [
        {
          "output_type": "stream",
          "text": [
            "hi\n"
          ],
          "name": "stdout"
        }
      ]
    },
    {
      "cell_type": "code",
      "metadata": {
        "id": "DXTsh7gGAjEG"
      },
      "source": [
        "def my_func(name):\n",
        "    print('hello '+ name)"
      ],
      "execution_count": null,
      "outputs": []
    },
    {
      "cell_type": "code",
      "metadata": {
        "id": "h9dRm-THAjEH",
        "outputId": "64fe4a74-8458-455b-8a5c-963db1e325a3"
      },
      "source": [
        "my_func('Emmy')"
      ],
      "execution_count": null,
      "outputs": [
        {
          "output_type": "stream",
          "text": [
            "hello Emmy\n"
          ],
          "name": "stdout"
        }
      ]
    },
    {
      "cell_type": "code",
      "metadata": {
        "id": "zIO6XpcGAjEI",
        "outputId": "799e30fc-c0f1-4795-e274-fc282ae31edd"
      },
      "source": [
        "def square(x): #print displays the actual value while Return allows you to save your object to a variable\n",
        "    return x**2 #print has parenthesis while return does not have parenthese. Print does not return anything while return\n",
        "                #does not print anything\n",
        "square(4)"
      ],
      "execution_count": null,
      "outputs": [
        {
          "output_type": "execute_result",
          "data": {
            "text/plain": [
              "16"
            ]
          },
          "metadata": {
            "tags": []
          },
          "execution_count": 3
        }
      ]
    },
    {
      "cell_type": "code",
      "metadata": {
        "id": "Gvwo-U73AjEJ",
        "outputId": "725443f0-0f54-41ea-e0c6-6d3db9a29b19"
      },
      "source": [
        "#say Jonny's mummy told him she will give him extra $10 if he has saved $100 by the end of the week but $0 if nothing is saved\n",
        "\n",
        "def add_10(m):\n",
        "    if m >= 100:\n",
        "        m = m + 10\n",
        "        return m\n",
        "    else:\n",
        "        return \"save more!\"\n",
        "add_10(110)"
      ],
      "execution_count": null,
      "outputs": [
        {
          "output_type": "execute_result",
          "data": {
            "text/plain": [
              "120"
            ]
          },
          "metadata": {
            "tags": []
          },
          "execution_count": 1
        }
      ]
    },
    {
      "cell_type": "code",
      "metadata": {
        "id": "BHyrfDLOAjEK",
        "outputId": "852b3209-ae73-491f-d609-81c629894d85"
      },
      "source": [
        "add_10(50)"
      ],
      "execution_count": null,
      "outputs": [
        {
          "output_type": "execute_result",
          "data": {
            "text/plain": [
              "'save more!'"
            ]
          },
          "metadata": {
            "tags": []
          },
          "execution_count": 2
        }
      ]
    },
    {
      "cell_type": "code",
      "metadata": {
        "id": "EcCT1zNVAjEL",
        "outputId": "694a9ebf-50ea-4993-b5b8-a410df04270d"
      },
      "source": [
        "result = square(2)\n",
        "result"
      ],
      "execution_count": null,
      "outputs": [
        {
          "output_type": "execute_result",
          "data": {
            "text/plain": [
              "4"
            ]
          },
          "metadata": {
            "tags": []
          },
          "execution_count": 55
        }
      ]
    },
    {
      "cell_type": "code",
      "metadata": {
        "id": "PNy0p2nUAjEM"
      },
      "source": [
        "#Lambda Expression in functions\n",
        "def times_two(var):\n",
        "    return var*2"
      ],
      "execution_count": null,
      "outputs": []
    },
    {
      "cell_type": "code",
      "metadata": {
        "id": "O68vI_93AjEO",
        "outputId": "2b3d33d8-944a-4202-d89e-c3f0148e877a"
      },
      "source": [
        "times_two(10)"
      ],
      "execution_count": null,
      "outputs": [
        {
          "output_type": "execute_result",
          "data": {
            "text/plain": [
              "20"
            ]
          },
          "metadata": {
            "tags": []
          },
          "execution_count": 58
        }
      ]
    },
    {
      "cell_type": "code",
      "metadata": {
        "id": "iH39R9NQAjEP",
        "outputId": "56f1f5a5-0d82-40c0-b9c2-e769588b71a6"
      },
      "source": [
        "#Alternatively coverting a function to a lambda expression\n",
        "lambda var: var*2"
      ],
      "execution_count": null,
      "outputs": [
        {
          "output_type": "execute_result",
          "data": {
            "text/plain": [
              "<function __main__.<lambda>(var)>"
            ]
          },
          "metadata": {
            "tags": []
          },
          "execution_count": 96
        }
      ]
    },
    {
      "cell_type": "code",
      "metadata": {
        "id": "sMC-qpvXAjEQ"
      },
      "source": [
        "\"\"\" Create a function that grabs the email website domain from a string in the form:\n",
        "user@domain.com\n",
        "\"\"\"\n",
        "def domain_get(email):\n",
        "    return email.split(\"@\")[-1]"
      ],
      "execution_count": null,
      "outputs": []
    },
    {
      "cell_type": "code",
      "metadata": {
        "id": "FDI4AG9qAjER",
        "outputId": "0c704881-b17b-4a96-cc12-557069733cfa"
      },
      "source": [
        "domain_get('user@domain.com')"
      ],
      "execution_count": null,
      "outputs": [
        {
          "output_type": "execute_result",
          "data": {
            "text/plain": [
              "'domain.com'"
            ]
          },
          "metadata": {
            "tags": []
          },
          "execution_count": 99
        }
      ]
    },
    {
      "cell_type": "code",
      "metadata": {
        "id": "RyO0fHoTAjES"
      },
      "source": [
        "def find_dog(st):\n",
        "    return 'dog' in st.lower().split()"
      ],
      "execution_count": null,
      "outputs": []
    },
    {
      "cell_type": "code",
      "metadata": {
        "id": "SZBz3tFlAjET",
        "outputId": "dd172b80-714f-4dbd-b9c1-9a69da5ca2f6"
      },
      "source": [
        "find_dog('Is there a dog here?')"
      ],
      "execution_count": null,
      "outputs": [
        {
          "output_type": "execute_result",
          "data": {
            "text/plain": [
              "True"
            ]
          },
          "metadata": {
            "tags": []
          },
          "execution_count": 102
        }
      ]
    },
    {
      "cell_type": "code",
      "metadata": {
        "id": "MPv7hhzdAjEU",
        "outputId": "e53ccdfa-4168-4472-ba7d-75955c45fe78"
      },
      "source": [
        "\"\"\"Create a function that counts the number of times the word \"dog\" occur in a string.\n",
        "\"\"\"\n",
        "def count_dog(st):\n",
        "    count = 0\n",
        "    for word in st.lower().split():\n",
        "        if word == 'dog':\n",
        "            count += 1\n",
        "    return count\n",
        "count_dog('This dog runs faster than the other dog dude!')"
      ],
      "execution_count": null,
      "outputs": [
        {
          "output_type": "execute_result",
          "data": {
            "text/plain": [
              "2"
            ]
          },
          "metadata": {
            "tags": []
          },
          "execution_count": 107
        }
      ]
    },
    {
      "cell_type": "code",
      "metadata": {
        "id": "txPR8xuAAjEV",
        "outputId": "67e53059-1e1c-4dd4-aecd-01796d353534"
      },
      "source": [
        "\"\"\"You are driving a little too fast and a police stops you. Write a function to return one of the 3 possble results.\n",
        "if your speed is 60 or less: \"No ticket\"\n",
        "if your speed is 61 and 80 inclusive: \"Small ticket\"\n",
        "if your speed is 81 or more: \"Big ticket\"\n",
        "Unless it is your birthday, your speed can be 5 higher in all cases\n",
        "\"\"\""
      ],
      "execution_count": null,
      "outputs": [
        {
          "output_type": "execute_result",
          "data": {
            "text/plain": [
              "'You are driving a little too fast and a police stops you. Write a function to return one of the 3 possble results.\\nif your speed is 60 or less: \"No ticket\"\\nif your speed is 61 and 80 inclusive: \"Small ticket\"\\nif your speed is 81 or more: \"Big ticket\"\\nUnless it is your birthday, your speed can be 5 higher in all cases\\n'"
            ]
          },
          "metadata": {
            "tags": []
          },
          "execution_count": 108
        }
      ]
    },
    {
      "cell_type": "code",
      "metadata": {
        "id": "Z9WhLcMEAjEW"
      },
      "source": [
        "def caught_speeding(speed, is_myBirthday):\n",
        "    \n",
        "    if is_myBirthday:\n",
        "        speeding = speed - 5\n",
        "    else:\n",
        "        speeding = speed\n",
        "    if speeding > 80:\n",
        "        return 'Big Ticket'\n",
        "    elif speeding > 60:\n",
        "        return 'Small Ticket'\n",
        "    else:\n",
        "        return 'no ticket'"
      ],
      "execution_count": null,
      "outputs": []
    },
    {
      "cell_type": "code",
      "metadata": {
        "id": "sjoFxN0yAjEW",
        "outputId": "3193f873-3995-4ebf-c69c-afe067d5f9ed"
      },
      "source": [
        "caught_speeding(81, True)"
      ],
      "execution_count": null,
      "outputs": [
        {
          "output_type": "execute_result",
          "data": {
            "text/plain": [
              "'Small Ticket'"
            ]
          },
          "metadata": {
            "tags": []
          },
          "execution_count": 111
        }
      ]
    },
    {
      "cell_type": "code",
      "metadata": {
        "id": "7mhUtZtEAjEZ",
        "outputId": "edb203bd-5532-4821-f883-4e88e323f694"
      },
      "source": [
        "caught_speeding(81, False)"
      ],
      "execution_count": null,
      "outputs": [
        {
          "output_type": "execute_result",
          "data": {
            "text/plain": [
              "'Big Ticket'"
            ]
          },
          "metadata": {
            "tags": []
          },
          "execution_count": 112
        }
      ]
    },
    {
      "cell_type": "markdown",
      "metadata": {
        "id": "RfDv-vPvAjEa"
      },
      "source": [
        "## Strings methods"
      ]
    },
    {
      "cell_type": "code",
      "metadata": {
        "id": "4yOHEjtRAjEb"
      },
      "source": [
        "st = ('The Lord id Good all the Time')"
      ],
      "execution_count": null,
      "outputs": []
    },
    {
      "cell_type": "code",
      "metadata": {
        "id": "XwtBcoAHAjEb",
        "outputId": "655c496e-5751-451e-e167-1d9ec6c577d8"
      },
      "source": [
        "st.upper()"
      ],
      "execution_count": null,
      "outputs": [
        {
          "output_type": "execute_result",
          "data": {
            "text/plain": [
              "'THE LORD ID GOOD ALL THE TIME'"
            ]
          },
          "metadata": {
            "tags": []
          },
          "execution_count": 61
        }
      ]
    },
    {
      "cell_type": "code",
      "metadata": {
        "id": "Tqf84UL2AjEc",
        "outputId": "9b4eaeaf-774b-4736-d9c3-0e05e33e2794"
      },
      "source": [
        "st.lower()"
      ],
      "execution_count": null,
      "outputs": [
        {
          "output_type": "execute_result",
          "data": {
            "text/plain": [
              "'the lord id good all the time'"
            ]
          },
          "metadata": {
            "tags": []
          },
          "execution_count": 62
        }
      ]
    },
    {
      "cell_type": "code",
      "metadata": {
        "id": "LfP7p027AjEg",
        "outputId": "9f125e66-afcd-4bd2-a935-4e4235b7ee4a"
      },
      "source": [
        "st.split()"
      ],
      "execution_count": null,
      "outputs": [
        {
          "output_type": "execute_result",
          "data": {
            "text/plain": [
              "['The', 'Lord', 'id', 'Good', 'all', 'the', 'Time']"
            ]
          },
          "metadata": {
            "tags": []
          },
          "execution_count": 63
        }
      ]
    },
    {
      "cell_type": "code",
      "metadata": {
        "id": "PFmNwVWsAjEi"
      },
      "source": [
        "tweet = 'Hello #ChristianBrethren'"
      ],
      "execution_count": null,
      "outputs": []
    },
    {
      "cell_type": "code",
      "metadata": {
        "id": "fMBG-2tQAjEj",
        "outputId": "25332f16-635e-4c9f-af02-0256eaf4ae04"
      },
      "source": [
        "tweet.split()"
      ],
      "execution_count": null,
      "outputs": [
        {
          "output_type": "execute_result",
          "data": {
            "text/plain": [
              "['Hello', '#ChristianBrethren']"
            ]
          },
          "metadata": {
            "tags": []
          },
          "execution_count": 65
        }
      ]
    },
    {
      "cell_type": "code",
      "metadata": {
        "id": "oQdBdkOlAjEk",
        "outputId": "6a18cf18-bbdd-47ee-b572-1941be4fe679"
      },
      "source": [
        "tweet.split('#')"
      ],
      "execution_count": null,
      "outputs": [
        {
          "output_type": "execute_result",
          "data": {
            "text/plain": [
              "['Hello ', 'ChristianBrethren']"
            ]
          },
          "metadata": {
            "tags": []
          },
          "execution_count": 67
        }
      ]
    },
    {
      "cell_type": "code",
      "metadata": {
        "id": "tBe_97TxAjEk",
        "outputId": "eb317663-5acf-4e02-a009-f6962e04ab1e"
      },
      "source": [
        "tweet.split('#')[-1]"
      ],
      "execution_count": null,
      "outputs": [
        {
          "output_type": "execute_result",
          "data": {
            "text/plain": [
              "'ChristianBrethren'"
            ]
          },
          "metadata": {
            "tags": []
          },
          "execution_count": 68
        }
      ]
    },
    {
      "cell_type": "code",
      "metadata": {
        "id": "w6svNFWqAjEl"
      },
      "source": [
        ""
      ],
      "execution_count": null,
      "outputs": []
    }
  ]
}